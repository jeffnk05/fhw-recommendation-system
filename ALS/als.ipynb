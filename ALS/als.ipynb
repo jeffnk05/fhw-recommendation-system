{
 "cells": [
  {
   "cell_type": "markdown",
   "id": "884c382e",
   "metadata": {},
   "source": [
    "# Collaborative Filtering using Alternating Least Squares (ALS)"
   ]
  },
  {
   "cell_type": "code",
   "execution_count": null,
   "id": "408f5040",
   "metadata": {},
   "outputs": [],
   "source": [
    "import implicit"
   ]
  }
 ],
 "metadata": {
  "kernelspec": {
   "display_name": "rcs",
   "language": "python",
   "name": "python3"
  },
  "language_info": {
   "name": "python",
   "version": "3.10.13"
  }
 },
 "nbformat": 4,
 "nbformat_minor": 5
}
