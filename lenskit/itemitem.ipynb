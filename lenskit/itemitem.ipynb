{
 "cells": [
  {
   "cell_type": "markdown",
   "id": "acd3899a",
   "metadata": {},
   "source": [
    "# Item Item Scorer"
   ]
  },
  {
   "cell_type": "code",
   "execution_count": 2,
   "id": "27b479f9",
   "metadata": {},
   "outputs": [],
   "source": [
    "import pandas as pd\n",
    "\n",
    "from lenskit.basic import topn\n",
    "from lenskit.knn import ItemKNNScorer\n",
    "from lenskit.batch import recommend\n",
    "from lenskit.data import from_interactions_df, ItemListCollection, UserIDKey\n",
    "from lenskit.metrics import NDCG, RBP, RecipRank, RunAnalysis, Recall, Precision, RMSE, MAE\n",
    "from lenskit.pipeline import topn_pipeline\n",
    "from lenskit.splitting import SampleFrac, crossfold_users"
   ]
  },
  {
   "cell_type": "markdown",
   "id": "61547b3b",
   "metadata": {},
   "source": [
    "Load data"
   ]
  },
  {
   "cell_type": "code",
   "execution_count": 3,
   "id": "8ae19f28",
   "metadata": {},
   "outputs": [],
   "source": [
    "df = pd.read_csv('../ALS/data/ratings.csv')\n",
    "books_df = pd.read_csv('../ALS/data/books.csv')\n",
    "dataset = from_interactions_df(df, user_col='user_id', item_col='book_id', rating_col='rating')"
   ]
  },
  {
   "cell_type": "markdown",
   "id": "d42fe853",
   "metadata": {},
   "source": [
    "## Build ItemItem Model"
   ]
  },
  {
   "cell_type": "markdown",
   "id": "cd4063a6",
   "metadata": {},
   "source": [
    "Build model with default settings"
   ]
  },
  {
   "cell_type": "code",
   "execution_count": 3,
   "id": "81cc5725",
   "metadata": {},
   "outputs": [],
   "source": [
    "model_ii = ItemKNNScorer(k=20)"
   ]
  },
  {
   "cell_type": "code",
   "execution_count": 4,
   "id": "51a75536",
   "metadata": {},
   "outputs": [],
   "source": [
    "pipe_ii = topn_pipeline(model_ii)"
   ]
  },
  {
   "cell_type": "code",
   "execution_count": 5,
   "id": "44b2e00f",
   "metadata": {},
   "outputs": [
    {
     "name": "stderr",
     "output_type": "stream",
     "text": [
      "/opt/miniconda3/envs/dvC_env/lib/python3.13/site-packages/lenskit/data/relationships.py:378: UserWarning: Sparse CSR tensor support is in beta state. If you miss a functionality in the sparse tensor support, please submit a feature request to https://github.com/pytorch/pytorch/issues. (Triggered internally at /Users/runner/miniforge3/conda-bld/libtorch_1741947719636/work/aten/src/ATen/SparseCsrTensorImpl.cpp:55.)\n",
      "  return torch.sparse_csr_tensor(\n"
     ]
    }
   ],
   "source": [
    "# test data is organized by user\n",
    "all_test = ItemListCollection(UserIDKey)\n",
    "# recommendations will be organized by model and user ID\n",
    "all_recs = ItemListCollection([\"model\", \"user_id\"])\n",
    "\n",
    "for split in crossfold_users(dataset, 5, SampleFrac(0.2)):\n",
    "    # collect the test data\n",
    "    all_test.add_from(split.test)\n",
    "\n",
    "    # train the pipeline, cloning first so a fresh pipeline for each split\n",
    "    fit_ii = pipe_ii.clone()\n",
    "    fit_ii.train(split.train)\n",
    "    ii_recs = recommend(fit_ii, split.test.keys(), 100)\n",
    "    all_recs.add_from(ii_recs, model=\"II\")"
   ]
  },
  {
   "cell_type": "code",
   "execution_count": 6,
   "id": "4de1cd91",
   "metadata": {},
   "outputs": [],
   "source": [
    "ran = RunAnalysis()\n",
    "ran.add_metric(NDCG())\n",
    "ran.add_metric(RBP())\n",
    "ran.add_metric(RecipRank())\n",
    "results = ran.measure(all_recs, all_test)"
   ]
  },
  {
   "cell_type": "code",
   "execution_count": 8,
   "id": "32b3f24c",
   "metadata": {},
   "outputs": [
    {
     "data": {
      "text/plain": [
       "NDCG         0.015468\n",
       "RBP          0.007261\n",
       "RecipRank    0.026249\n",
       "dtype: float64"
      ]
     },
     "execution_count": 8,
     "metadata": {},
     "output_type": "execute_result"
    }
   ],
   "source": [
    "results.list_metrics().mean()"
   ]
  },
  {
   "cell_type": "markdown",
   "id": "ede8b171",
   "metadata": {},
   "source": [
    "First Fine Tuning. Increase min neighbours from 1 to 3 and increase minimum similarity from 1e-06 to 0.1"
   ]
  },
  {
   "cell_type": "code",
   "execution_count": 9,
   "id": "5a7954e1",
   "metadata": {},
   "outputs": [],
   "source": [
    "model_ii = ItemKNNScorer(\n",
    "    max_nbrs=20,              # 20 Nachbarn\n",
    "    min_nbrs=3,            # Mindestens 3 Nachbarn\n",
    "    min_sim=0.1             # Mindest-Ähnlichkeit\n",
    "    )\n",
    "pipe_ii = topn_pipeline(model_ii)"
   ]
  },
  {
   "cell_type": "code",
   "execution_count": 10,
   "id": "565a9e3b",
   "metadata": {},
   "outputs": [],
   "source": [
    "# test data is organized by user\n",
    "all_test = ItemListCollection(UserIDKey)\n",
    "# recommendations will be organized by model and user ID\n",
    "all_recs = ItemListCollection([\"model\", \"user_id\"])\n",
    "\n",
    "for split in crossfold_users(dataset, 5, SampleFrac(0.2)):\n",
    "    # collect the test data\n",
    "    all_test.add_from(split.test)\n",
    "\n",
    "    # train the pipeline, cloning first so a fresh pipeline for each split\n",
    "    fit_ii = pipe_ii.clone()\n",
    "    fit_ii.train(split.train)\n",
    "    ii_recs = recommend(fit_ii, split.test.keys(), 100)\n",
    "    all_recs.add_from(ii_recs, model=\"II\")"
   ]
  },
  {
   "cell_type": "markdown",
   "id": "3f4f2362",
   "metadata": {},
   "source": [
    "Tests mit k=10"
   ]
  },
  {
   "cell_type": "code",
   "execution_count": 19,
   "id": "d34ca468",
   "metadata": {},
   "outputs": [],
   "source": [
    "ran = RunAnalysis()\n",
    "ran.add_metric(NDCG(k=10))\n",
    "ran.add_metric(Precision(k=10))\n",
    "ran.add_metric(Recall(k=10))\n",
    "ran.add_metric(RBP())\n",
    "ran.add_metric(RecipRank())\n",
    "ran.add_metric(RMSE(missing_scores='ignore', missing_truth='ignore'))\n",
    "ran.add_metric(MAE(missing_scores='ignore', missing_truth='ignore'))\n",
    "results = ran.measure(all_recs, all_test)"
   ]
  },
  {
   "cell_type": "code",
   "execution_count": 20,
   "id": "d34b8d86",
   "metadata": {},
   "outputs": [
    {
     "data": {
      "text/plain": [
       "NDCG@10         0.179640\n",
       "Precision@10    0.179530\n",
       "Recall@10       0.175635\n",
       "RBP             0.170473\n",
       "RecipRank       0.350592\n",
       "RMSE            0.187708\n",
       "MAE             0.050603\n",
       "dtype: float64"
      ]
     },
     "execution_count": 20,
     "metadata": {},
     "output_type": "execute_result"
    }
   ],
   "source": [
    "results.list_metrics().mean()"
   ]
  },
  {
   "cell_type": "markdown",
   "id": "0dcc0007",
   "metadata": {},
   "source": [
    "Grid Search"
   ]
  },
  {
   "cell_type": "code",
   "execution_count": 21,
   "id": "96fac195",
   "metadata": {},
   "outputs": [
    {
     "name": "stdout",
     "output_type": "stream",
     "text": [
      "Testing config 1: {'max_nbrs': 20, 'min_nbrs': 3, 'min_sim': 0.1}\n",
      "        NDCG@10   RBP@10  RecipRank@10  Precision@10  Recall@10\n",
      "model                                                          \n",
      "II     0.213566  0.17138      0.386844      0.218707   0.205684\n",
      "Testing config 2: {'max_nbrs': 30, 'min_nbrs': 5, 'min_sim': 0.2}\n",
      "        NDCG@10   RBP@10  RecipRank@10  Precision@10  Recall@10\n",
      "model                                                          \n",
      "II     0.215602  0.17305      0.392086      0.220159   0.207205\n",
      "Testing config 3: {'max_nbrs': 50, 'min_nbrs': 3, 'min_sim': 0.15}\n",
      "       NDCG@10    RBP@10  RecipRank@10  Precision@10  Recall@10\n",
      "model                                                          \n",
      "II     0.21455  0.172377      0.387912      0.219233   0.206444\n",
      "Testing config 4: {'max_nbrs': 40, 'min_nbrs': 2, 'min_sim': 0.05}\n",
      "        NDCG@10    RBP@10  RecipRank@10  Precision@10  Recall@10\n",
      "model                                                           \n",
      "II     0.215199  0.172691      0.388519      0.220282   0.206935\n"
     ]
    }
   ],
   "source": [
    "# Schnelle Parameter-Suche\n",
    "configs = [\n",
    "    {\"max_nbrs\": 20, \"min_nbrs\": 3, \"min_sim\": 0.1},   # Current\n",
    "    {\"max_nbrs\": 30, \"min_nbrs\": 5, \"min_sim\": 0.2},   # Konservativer\n",
    "    {\"max_nbrs\": 50, \"min_nbrs\": 3, \"min_sim\": 0.15},  # Mehr Nachbarn\n",
    "    {\"max_nbrs\": 40, \"min_nbrs\": 2, \"min_sim\": 0.05},  # Liberal\n",
    "]\n",
    "\n",
    "for i, config in enumerate(configs):\n",
    "    print(f\"Testing config {i+1}: {config}\")\n",
    "\n",
    "    model = ItemKNNScorer(**config)\n",
    "    pipe_ii = topn_pipeline(model_ii)\n",
    "\n",
    "    # test data is organized by user\n",
    "    all_test = ItemListCollection(UserIDKey)\n",
    "    # recommendations will be organized by model and user ID\n",
    "    all_recs = ItemListCollection([\"model\", \"user_id\"])\n",
    "\n",
    "    for split in crossfold_users(dataset, 1, SampleFrac(0.2)):\n",
    "        # collect the test data\n",
    "        all_test.add_from(split.test)\n",
    "\n",
    "        # do the same for item-item\n",
    "        fit_ii = pipe_ii.clone()\n",
    "        fit_ii.train(split.train)\n",
    "        ii_recs = recommend(fit_ii, split.test.keys(), 100)\n",
    "        all_recs.add_from(ii_recs, model=\"II\")\n",
    "    \n",
    "    ran = RunAnalysis()\n",
    "    ran.add_metric(NDCG(k=10))\n",
    "    ran.add_metric(RBP(k=10))\n",
    "    ran.add_metric(RecipRank(k=10))\n",
    "    ran.add_metric(Precision(k=10))\n",
    "    ran.add_metric(Recall(k=10))\n",
    "    results = ran.measure(all_recs, all_test)\n",
    "\n",
    "    print(results.list_metrics().groupby(\"model\").mean())"
   ]
  },
  {
   "cell_type": "markdown",
   "id": "fb3448b4",
   "metadata": {},
   "source": [
    "Config 2 die beste"
   ]
  },
  {
   "cell_type": "code",
   "execution_count": 22,
   "id": "3aff847f",
   "metadata": {},
   "outputs": [
    {
     "name": "stdout",
     "output_type": "stream",
     "text": [
      "Testing config 1: {'max_nbrs': 10, 'min_nbrs': 2, 'min_sim': 0.3}\n",
      "        NDCG@10    RBP@10  RecipRank@10  Precision@10  Recall@10\n",
      "model                                                           \n",
      "II     0.214725  0.172343      0.390142       0.22012   0.206539\n",
      "Testing config 2: {'max_nbrs': 100, 'min_nbrs': 5, 'min_sim': 0.1}\n",
      "        NDCG@10    RBP@10  RecipRank@10  Precision@10  Recall@10\n",
      "model                                                           \n",
      "II     0.213367  0.171244      0.386539      0.218304   0.205203\n",
      "Testing config 3: {'max_nbrs': 15, 'min_nbrs': 1, 'min_sim': 0.4}\n",
      "        NDCG@10    RBP@10  RecipRank@10  Precision@10  Recall@10\n",
      "model                                                           \n",
      "II     0.213885  0.171738      0.389135       0.21777   0.205199\n",
      "Testing config 4: {'max_nbrs': 80, 'min_nbrs': 1, 'min_sim': 0.01}\n",
      "        NDCG@10    RBP@10  RecipRank@10  Precision@10  Recall@10\n",
      "model                                                           \n",
      "II     0.214221  0.171809       0.38929      0.218405   0.205364\n",
      "Testing config 5: {'max_nbrs': 25, 'min_nbrs': 3, 'min_sim': 0.25}\n",
      "        NDCG@10    RBP@10  RecipRank@10  Precision@10  Recall@10\n",
      "model                                                           \n",
      "II     0.216563  0.173679      0.393671      0.220777   0.207431\n",
      "Testing config 6: {'max_nbrs': 60, 'min_nbrs': 8, 'min_sim': 0.15}\n",
      "        NDCG@10    RBP@10  RecipRank@10  Precision@10  Recall@10\n",
      "model                                                           \n",
      "II     0.214009  0.171823      0.388925      0.218195   0.205425\n"
     ]
    }
   ],
   "source": [
    "configs = [\n",
    "    # Zusätzliche Tests:\n",
    "    {\"max_nbrs\": 10, \"min_nbrs\": 2, \"min_sim\": 0.3},   # Sehr konservativ\n",
    "    {\"max_nbrs\": 100, \"min_nbrs\": 5, \"min_sim\": 0.1},  # Viele Nachbarn\n",
    "    {\"max_nbrs\": 15, \"min_nbrs\": 1, \"min_sim\": 0.4},   # Hohe Ähnlichkeit\n",
    "    {\"max_nbrs\": 80, \"min_nbrs\": 1, \"min_sim\": 0.01},  # Sehr liberal\n",
    "    {\"max_nbrs\": 25, \"min_nbrs\": 3, \"min_sim\": 0.25},  # Balanced+\n",
    "    {\"max_nbrs\": 60, \"min_nbrs\": 8, \"min_sim\": 0.15},  # Viele min_nbrs\n",
    "]\n",
    "\n",
    "for i, config in enumerate(configs):\n",
    "    print(f\"Testing config {i+1}: {config}\")\n",
    "\n",
    "    model = ItemKNNScorer(**config)\n",
    "    pipe_ii = topn_pipeline(model_ii)\n",
    "\n",
    "    # test data is organized by user\n",
    "    all_test = ItemListCollection(UserIDKey)\n",
    "    # recommendations will be organized by model and user ID\n",
    "    all_recs = ItemListCollection([\"model\", \"user_id\"])\n",
    "\n",
    "    for split in crossfold_users(dataset, 1, SampleFrac(0.2)):\n",
    "        # collect the test data\n",
    "        all_test.add_from(split.test)\n",
    "\n",
    "        # do the same for item-item\n",
    "        fit_ii = pipe_ii.clone()\n",
    "        fit_ii.train(split.train)\n",
    "        ii_recs = recommend(fit_ii, split.test.keys(), 100)\n",
    "        all_recs.add_from(ii_recs, model=\"II\")\n",
    "    \n",
    "    ran = RunAnalysis()\n",
    "    ran.add_metric(NDCG(k=10))\n",
    "    ran.add_metric(RBP(k=10))\n",
    "    ran.add_metric(RecipRank(k=10))\n",
    "    ran.add_metric(Precision(k=10))\n",
    "    ran.add_metric(Recall(k=10))\n",
    "    results = ran.measure(all_recs, all_test)\n",
    "\n",
    "    print(results.list_metrics().groupby(\"model\").mean())"
   ]
  },
  {
   "cell_type": "markdown",
   "id": "c3c1bf9b",
   "metadata": {},
   "source": [
    "Config 5 hat sich als die beste herausgestellt. Diese wird nun nochmal feinabgestimmt. \\\n",
    "`\n",
    "{\"max_nbrs\": 25, \"min_nbrs\": 3, \"min_sim\": 0.25} \n",
    "NDCG@10: 0.2166 (+0.5% vs. bisherige beste) \n",
    "Precision@10: 0.2208 (beste) \n",
    "Recall@10: 0.2074 (beste) \n",
    "`"
   ]
  },
  {
   "cell_type": "code",
   "execution_count": null,
   "id": "2a92c59e",
   "metadata": {},
   "outputs": [],
   "source": [
    "fine_tuning_configs = [\n",
    "    # Variation von max_nbrs (±5-10)\n",
    "    {\"max_nbrs\": 20, \"min_nbrs\": 3, \"min_sim\": 0.25},\n",
    "    {\"max_nbrs\": 22, \"min_nbrs\": 3, \"min_sim\": 0.25},\n",
    "    {\"max_nbrs\": 28, \"min_nbrs\": 3, \"min_sim\": 0.25},\n",
    "    {\"max_nbrs\": 30, \"min_nbrs\": 3, \"min_sim\": 0.25},  # Vergleich zu Run 1 Config 2\n",
    "    \n",
    "    # Variation von min_nbrs\n",
    "    {\"max_nbrs\": 25, \"min_nbrs\": 2, \"min_sim\": 0.25},  # lockerer\n",
    "    {\"max_nbrs\": 25, \"min_nbrs\": 4, \"min_sim\": 0.25},  # strikter\n",
    "    {\"max_nbrs\": 25, \"min_nbrs\": 5, \"min_sim\": 0.25},  # Vergleich zu Run 1 Config 2\n",
    "    \n",
    "    # Variation von min_sim (±0.05)\n",
    "    {\"max_nbrs\": 25, \"min_nbrs\": 3, \"min_sim\": 0.20},  # weniger strikt\n",
    "    {\"max_nbrs\": 25, \"min_nbrs\": 3, \"min_sim\": 0.22},\n",
    "    {\"max_nbrs\": 25, \"min_nbrs\": 3, \"min_sim\": 0.28},\n",
    "    {\"max_nbrs\": 25, \"min_nbrs\": 3, \"min_sim\": 0.30},  # strikter (Vergleich zu Run 2 Config 1)\n",
    "    \n",
    "    # Kombinierte Variationen\n",
    "    {\"max_nbrs\": 22, \"min_nbrs\": 4, \"min_sim\": 0.22},  # moderat in allen Parametern\n",
    "    {\"max_nbrs\": 28, \"min_nbrs\": 2, \"min_sim\": 0.28},  # mehr Nachbarn, weniger Filter\n",
    "    \n",
    "    # Baseline zum Vergleich\n",
    "    {\"max_nbrs\": 25, \"min_nbrs\": 3, \"min_sim\": 0.25}  # Original-Bestconfig\n",
    "]\n",
    "\n"
   ]
  },
  {
   "cell_type": "code",
   "execution_count": 24,
   "id": "9669e7bb",
   "metadata": {},
   "outputs": [
    {
     "name": "stdout",
     "output_type": "stream",
     "text": [
      "Testing config 1: {'max_nbrs': 20, 'min_nbrs': 3, 'min_sim': 0.25}\n",
      "        NDCG@10    RBP@10  RecipRank@10  Precision@10  Recall@10\n",
      "model                                                           \n",
      "II     0.218115  0.174929      0.399141      0.220771   0.208244\n",
      "Testing config 2: {'max_nbrs': 22, 'min_nbrs': 3, 'min_sim': 0.25}\n",
      "        NDCG@10    RBP@10  RecipRank@10  Precision@10  Recall@10\n",
      "model                                                           \n",
      "II     0.214969  0.172552      0.391443      0.219038    0.20621\n",
      "Testing config 3: {'max_nbrs': 28, 'min_nbrs': 3, 'min_sim': 0.25}\n",
      "        NDCG@10    RBP@10  RecipRank@10  Precision@10  Recall@10\n",
      "model                                                           \n",
      "II     0.218662  0.175449      0.395808      0.223382   0.209604\n",
      "Testing config 4: {'max_nbrs': 30, 'min_nbrs': 3, 'min_sim': 0.25}\n",
      "        NDCG@10    RBP@10  RecipRank@10  Precision@10  Recall@10\n",
      "model                                                           \n",
      "II     0.214889  0.172523      0.389981      0.218722   0.206656\n",
      "Testing config 5: {'max_nbrs': 25, 'min_nbrs': 2, 'min_sim': 0.25}\n",
      "       NDCG@10    RBP@10  RecipRank@10  Precision@10  Recall@10\n",
      "model                                                          \n",
      "II     0.21541  0.172954      0.389884      0.219645   0.207208\n",
      "Testing config 6: {'max_nbrs': 25, 'min_nbrs': 4, 'min_sim': 0.25}\n",
      "        NDCG@10    RBP@10  RecipRank@10  Precision@10  Recall@10\n",
      "model                                                           \n",
      "II     0.216817  0.173933      0.396383      0.221044   0.207322\n",
      "Testing config 7: {'max_nbrs': 25, 'min_nbrs': 5, 'min_sim': 0.25}\n",
      "        NDCG@10    RBP@10  RecipRank@10  Precision@10  Recall@10\n",
      "model                                                           \n",
      "II     0.213402  0.171305      0.386188      0.217916   0.205419\n",
      "Testing config 8: {'max_nbrs': 25, 'min_nbrs': 3, 'min_sim': 0.2}\n",
      "        NDCG@10    RBP@10  RecipRank@10  Precision@10  Recall@10\n",
      "model                                                           \n",
      "II     0.217263  0.174424      0.394217      0.221758   0.207972\n",
      "Testing config 9: {'max_nbrs': 25, 'min_nbrs': 3, 'min_sim': 0.22}\n",
      "        NDCG@10    RBP@10  RecipRank@10  Precision@10  Recall@10\n",
      "model                                                           \n",
      "II     0.215557  0.173042      0.391713      0.219811   0.206991\n",
      "Testing config 10: {'max_nbrs': 25, 'min_nbrs': 3, 'min_sim': 0.28}\n",
      "        NDCG@10    RBP@10  RecipRank@10  Precision@10  Recall@10\n",
      "model                                                           \n",
      "II     0.216883  0.174054      0.395117      0.221226   0.207336\n",
      "Testing config 11: {'max_nbrs': 25, 'min_nbrs': 3, 'min_sim': 0.3}\n",
      "        NDCG@10    RBP@10  RecipRank@10  Precision@10  Recall@10\n",
      "model                                                           \n",
      "II     0.214685  0.172316      0.388628      0.219354    0.20701\n",
      "Testing config 12: {'max_nbrs': 22, 'min_nbrs': 4, 'min_sim': 0.22}\n",
      "        NDCG@10    RBP@10  RecipRank@10  Precision@10  Recall@10\n",
      "model                                                           \n",
      "II     0.224785  0.180062      0.423903      0.223989   0.210559\n",
      "Testing config 13: {'max_nbrs': 28, 'min_nbrs': 2, 'min_sim': 0.28}\n",
      "        NDCG@10    RBP@10  RecipRank@10  Precision@10  Recall@10\n",
      "model                                                           \n",
      "II     0.216966  0.173977      0.397272      0.220033   0.207228\n",
      "Testing config 14: {'max_nbrs': 25, 'min_nbrs': 3, 'min_sim': 0.25}\n",
      "        NDCG@10    RBP@10  RecipRank@10  Precision@10  Recall@10\n",
      "model                                                           \n",
      "II     0.214237  0.171993      0.388714      0.218732   0.205325\n"
     ]
    }
   ],
   "source": [
    "\n",
    "for i, config in enumerate(fine_tuning_configs):\n",
    "    print(f\"Testing config {i+1}: {config}\")\n",
    "\n",
    "    model = ItemKNNScorer(**config)\n",
    "    pipe_ii = topn_pipeline(model_ii)\n",
    "\n",
    "    # test data is organized by user\n",
    "    all_test = ItemListCollection(UserIDKey)\n",
    "    # recommendations will be organized by model and user ID\n",
    "    all_recs = ItemListCollection([\"model\", \"user_id\"])\n",
    "\n",
    "    for split in crossfold_users(dataset, 1, SampleFrac(0.2)):\n",
    "        # collect the test data\n",
    "        all_test.add_from(split.test)\n",
    "\n",
    "        # do the same for item-item\n",
    "        fit_ii = pipe_ii.clone()\n",
    "        fit_ii.train(split.train)\n",
    "        ii_recs = recommend(fit_ii, split.test.keys(), 100)\n",
    "        all_recs.add_from(ii_recs, model=\"II\")\n",
    "    \n",
    "    ran = RunAnalysis()\n",
    "    ran.add_metric(NDCG(k=10))\n",
    "    ran.add_metric(RBP(k=10))\n",
    "    ran.add_metric(RecipRank(k=10))\n",
    "    ran.add_metric(Precision(k=10))\n",
    "    ran.add_metric(Recall(k=10))\n",
    "    results = ran.measure(all_recs, all_test)\n",
    "\n",
    "    print(results.list_metrics().groupby(\"model\").mean())"
   ]
  },
  {
   "cell_type": "markdown",
   "id": "ad5d3e72",
   "metadata": {},
   "source": [
    "**Klare Beste Konfiguration: Config 12**  \n",
    "   (`max_nbrs=22`, `min_nbrs=4`, `min_sim=0.22`)  \n",
    "   - **NDCG@10 (0.224785)**: +3.7% besser als der bisherige Bestwert  \n",
    "   - **RBP@10 (0.180062)**: +3.7% besser als der bisherige Bestwert  \n",
    "   - **RecipRank@10 (0.423903)**: +7.7% besser (stärkste Verbesserung)  \n",
    "   - **Recall@10 (0.210559)**: Bester Wert  \n",
    "\n",
    "**Config 12 als neue Baseline übernehmen** - Sie dominiert in 4/5 Metriken."
   ]
  },
  {
   "cell_type": "markdown",
   "id": "21ac2bf3",
   "metadata": {},
   "source": [
    "Neue COnfig gewählt, da COnfig 12 eine zu geringe Coverage besitzt. "
   ]
  },
  {
   "cell_type": "code",
   "execution_count": 5,
   "id": "a910f702",
   "metadata": {},
   "outputs": [
    {
     "name": "stderr",
     "output_type": "stream",
     "text": [
      "/opt/miniconda3/envs/dvC_env/lib/python3.13/site-packages/lenskit/data/relationships.py:378: UserWarning: Sparse CSR tensor support is in beta state. If you miss a functionality in the sparse tensor support, please submit a feature request to https://github.com/pytorch/pytorch/issues. (Triggered internally at /Users/runner/miniforge3/conda-bld/libtorch_1741947719636/work/aten/src/ATen/SparseCsrTensorImpl.cpp:55.)\n",
      "  return torch.sparse_csr_tensor(\n"
     ]
    }
   ],
   "source": [
    "model_ii = ItemKNNScorer(\n",
    "    max_nbrs=50,              # 22 Nachbarn\n",
    "    min_nbrs=3,               # Mindestens 4 Nachbarn\n",
    "    min_sim=0.15              # Mindest-Ähnlichkeit\n",
    "    )\n",
    "pipe_ii = topn_pipeline(model_ii)\n",
    "pipe_ii.train(dataset)\n",
    "recs = recommend(pipe_ii, [234], 100)"
   ]
  },
  {
   "cell_type": "code",
   "execution_count": 46,
   "id": "b819dd8f",
   "metadata": {},
   "outputs": [
    {
     "name": "stdout",
     "output_type": "stream",
     "text": [
      "User: 234\n",
      "Anzahl Empfehlungen: 75\n"
     ]
    },
    {
     "ename": "AttributeError",
     "evalue": "'ItemList' object has no attribute 'iloc'",
     "output_type": "error",
     "traceback": [
      "\u001b[31m---------------------------------------------------------------------------\u001b[39m",
      "\u001b[31mAttributeError\u001b[39m                            Traceback (most recent call last)",
      "\u001b[36mCell\u001b[39m\u001b[36m \u001b[39m\u001b[32mIn[46]\u001b[39m\u001b[32m, line 8\u001b[39m\n\u001b[32m      6\u001b[39m \u001b[38;5;66;03m# Erste 5 Items\u001b[39;00m\n\u001b[32m      7\u001b[39m \u001b[38;5;28;01mfor\u001b[39;00m i \u001b[38;5;129;01min\u001b[39;00m \u001b[38;5;28mrange\u001b[39m(\u001b[38;5;28mmin\u001b[39m(\u001b[32m5\u001b[39m, \u001b[38;5;28mlen\u001b[39m(item_list))):\n\u001b[32m----> \u001b[39m\u001b[32m8\u001b[39m     item = \u001b[43mitem_list\u001b[49m\u001b[43m.\u001b[49m\u001b[43miloc\u001b[49m[i]\n\u001b[32m      9\u001b[39m     \u001b[38;5;28mprint\u001b[39m(\u001b[33mf\u001b[39m\u001b[33m\"\u001b[39m\u001b[33m  Item \u001b[39m\u001b[38;5;132;01m{\u001b[39;00mitem.name\u001b[38;5;132;01m}\u001b[39;00m\u001b[33m: Score \u001b[39m\u001b[38;5;132;01m{\u001b[39;00mitem.score\u001b[38;5;132;01m}\u001b[39;00m\u001b[33m\"\u001b[39m)\n\u001b[32m     10\u001b[39m \u001b[38;5;28mprint\u001b[39m()\n",
      "\u001b[31mAttributeError\u001b[39m: 'ItemList' object has no attribute 'iloc'"
     ]
    }
   ],
   "source": [
    "# Einfachste Variante:\n",
    "for user_key, item_list in recs:\n",
    "    print(f\"User: {user_key.user_id}\")\n",
    "    print(f\"Anzahl Empfehlungen: {len(item_list)}\")\n",
    "    \n",
    "    # Erste 5 Items\n",
    "    for i in range(min(5, len(item_list))):\n",
    "        item = item_list.iloc[i]\n",
    "        print(f\"  Item {item.name}: Score {item.score}\")\n",
    "    print()"
   ]
  },
  {
   "cell_type": "code",
   "execution_count": 5,
   "id": "bf0db9d9",
   "metadata": {},
   "outputs": [
    {
     "name": "stderr",
     "output_type": "stream",
     "text": [
      "/opt/miniconda3/envs/dvC_env/lib/python3.13/site-packages/lenskit/data/relationships.py:378: UserWarning: Sparse CSR tensor support is in beta state. If you miss a functionality in the sparse tensor support, please submit a feature request to https://github.com/pytorch/pytorch/issues. (Triggered internally at /Users/runner/miniforge3/conda-bld/libtorch_1741947719636/work/aten/src/ATen/SparseCsrTensorImpl.cpp:55.)\n",
      "  return torch.sparse_csr_tensor(\n"
     ]
    }
   ],
   "source": [
    "# test data is organized by user\n",
    "all_test = ItemListCollection(UserIDKey)\n",
    "# recommendations will be organized by model and user ID\n",
    "all_recs = ItemListCollection([\"model\", \"user_id\"])\n",
    "\n",
    "for split in crossfold_users(dataset, 5, SampleFrac(0.2)):\n",
    "    # collect the test data\n",
    "    all_test.add_from(split.test)\n",
    "\n",
    "    # train the pipeline, cloning first so a fresh pipeline for each split\n",
    "    fit_ii = pipe_ii.clone()\n",
    "    fit_ii.train(split.train)\n",
    "    ii_recs = recommend(fit_ii, split.test.keys(), 100)\n",
    "    all_recs.add_from(ii_recs, model=\"II\")"
   ]
  },
  {
   "cell_type": "code",
   "execution_count": 57,
   "id": "c522c8d9",
   "metadata": {},
   "outputs": [
    {
     "name": "stdout",
     "output_type": "stream",
     "text": [
      "        NDCG@10  Precision@10  Recall@10    RBP@10  RecipRank@10\n",
      "model                                                           \n",
      "II     0.210801      0.309379   0.169121  0.167914      0.426319\n"
     ]
    }
   ],
   "source": [
    "ran = RunAnalysis()\n",
    "ran.add_metric(NDCG(k=10))\n",
    "ran.add_metric(Precision(k=10))\n",
    "ran.add_metric(Recall(k=10))\n",
    "ran.add_metric(RBP(k=10))\n",
    "ran.add_metric(RecipRank(k=10))\n",
    "results = ran.measure(all_recs, all_test)\n",
    "\n",
    "print(results.list_metrics().groupby(\"model\").mean())"
   ]
  },
  {
   "cell_type": "code",
   "execution_count": 71,
   "id": "2757941a",
   "metadata": {},
   "outputs": [],
   "source": [
    "from lenskit.batch import recommend\n",
    "\n",
    "def get_book_rec_simple(book_id, model, original_df, books_df=None, k=10):\n",
    "    \"\"\"\n",
    "    Vereinfachte Version: Nimmt nur einen User der das Buch mochte\n",
    "    \"\"\"\n",
    "    \n",
    "    try:\n",
    "        # Finde einen User der das Buch gut bewertet hat\n",
    "        good_users = original_df[\n",
    "            (original_df['book_id'] == book_id) & \n",
    "            (original_df['rating'] >= 4)\n",
    "        ]['user_id'].unique()\n",
    "        \n",
    "        if len(good_users) == 0:\n",
    "            return []\n",
    "        \n",
    "        # Nimm den ersten User\n",
    "        user_id = good_users[0]\n",
    "        \n",
    "        # Generiere Empfehlungen für diesen User\n",
    "        user_recs = recommend(model, [user_id], k+5)\n",
    "        \n",
    "        if user_recs is None or user_recs.empty:\n",
    "            return []\n",
    "        \n",
    "        # Filtere das ursprüngliche Buch heraus\n",
    "        filtered_recs = user_recs[user_recs['item'] != book_id]\n",
    "        top_book_ids = filtered_recs['item'].head(k).tolist()\n",
    "        \n",
    "        # Konvertiere zu Titeln\n",
    "        if books_df is not None:\n",
    "            return [books_df[books_df['book_id'] == bid]['title'].iloc[0] \n",
    "                   for bid in top_book_ids \n",
    "                   if not books_df[books_df['book_id'] == bid].empty]\n",
    "        else:\n",
    "            return [f'Book ID: {bid}' for bid in top_book_ids]\n",
    "            \n",
    "    except Exception as e:\n",
    "        print(f\"Fehler: {e}\")\n",
    "        return []"
   ]
  },
  {
   "cell_type": "code",
   "execution_count": 73,
   "id": "bc65a6e1",
   "metadata": {},
   "outputs": [
    {
     "data": {
      "text/plain": [
       "[]"
      ]
     },
     "execution_count": 73,
     "metadata": {},
     "output_type": "execute_result"
    }
   ],
   "source": [
    "get_book_rec_simple(11, fit_ii, df, books_df, k=10)"
   ]
  },
  {
   "cell_type": "code",
   "execution_count": 6,
   "id": "f663d465",
   "metadata": {},
   "outputs": [
    {
     "name": "stdout",
     "output_type": "stream",
     "text": [
      "Spalten: ['item_id', 'item_num', 'score', 'rank']\n",
      "Index name: None\n",
      "   item_id  item_num     score  rank\n",
      "0      161       160  5.139027     1\n",
      "1      155       154  5.047428     2\n",
      "2     2687      2686  4.559760     3\n",
      "3     2974      2973  4.554077     4\n",
      "4     2282      2281  4.489484     5\n"
     ]
    }
   ],
   "source": [
    "recs = recommend(pipe_ii, [234], 10, n_jobs=1)\n",
    "for user_key, item_list in recs:\n",
    "    df = item_list.to_df()\n",
    "    print(\"Spalten:\", df.columns.tolist())\n",
    "    print(\"Index name:\", df.index.name)\n",
    "    print(df.head())"
   ]
  }
 ],
 "metadata": {
  "kernelspec": {
   "display_name": "dvC_env",
   "language": "python",
   "name": "python3"
  },
  "language_info": {
   "codemirror_mode": {
    "name": "ipython",
    "version": 3
   },
   "file_extension": ".py",
   "mimetype": "text/x-python",
   "name": "python",
   "nbconvert_exporter": "python",
   "pygments_lexer": "ipython3",
   "version": "3.13.3"
  }
 },
 "nbformat": 4,
 "nbformat_minor": 5
}
