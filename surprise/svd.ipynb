{
 "cells": [
  {
   "cell_type": "code",
   "execution_count": 10,
   "id": "862ec58b",
   "metadata": {},
   "outputs": [],
   "source": [
    "from surprise import SVD, Dataset, Reader\n",
    "from surprise.model_selection import cross_validate\n",
    "from collections import defaultdict"
   ]
  },
  {
   "cell_type": "code",
   "execution_count": 8,
   "id": "088fb40f",
   "metadata": {},
   "outputs": [],
   "source": [
    "# path to dataset file\n",
    "file_path = \"../ALS/data/ratings.csv\"\n",
    "\n",
    "reader = Reader(line_format= \"user item rating\", sep=\",\", skip_lines=1)\n",
    "\n",
    "data = Dataset.load_from_file(file_path=file_path, reader=reader)"
   ]
  },
  {
   "cell_type": "code",
   "execution_count": 9,
   "id": "bef8014d",
   "metadata": {},
   "outputs": [
    {
     "name": "stdout",
     "output_type": "stream",
     "text": [
      "Evaluating RMSE, MAE of algorithm SVD on 5 split(s).\n",
      "\n",
      "                  Fold 1  Fold 2  Fold 3  Fold 4  Fold 5  Mean    Std     \n",
      "RMSE (testset)    0.8305  0.8309  0.8298  0.8296  0.8313  0.8304  0.0006  \n",
      "MAE (testset)     0.6411  0.6415  0.6405  0.6406  0.6415  0.6410  0.0004  \n",
      "Fit time          23.82   23.01   23.73   22.96   23.78   23.46   0.39    \n",
      "Test time         6.85    5.04    6.72    5.97    5.51    6.02    0.69    \n"
     ]
    },
    {
     "data": {
      "text/plain": [
       "{'test_rmse': array([0.83045064, 0.83087787, 0.82979055, 0.82958435, 0.83125526]),\n",
       " 'test_mae': array([0.64106566, 0.64145378, 0.64050602, 0.64063575, 0.64150628]),\n",
       " 'fit_time': (23.821056127548218,\n",
       "  23.014048099517822,\n",
       "  23.731786966323853,\n",
       "  22.955167055130005,\n",
       "  23.782928943634033),\n",
       " 'test_time': (6.845360040664673,\n",
       "  5.040719032287598,\n",
       "  6.719989061355591,\n",
       "  5.972475290298462,\n",
       "  5.506942987442017)}"
      ]
     },
     "execution_count": 9,
     "metadata": {},
     "output_type": "execute_result"
    }
   ],
   "source": [
    "algo = SVD()\n",
    "\n",
    "# Run 5-fold cross-validation and print results\n",
    "cross_validate(algo, data, measures=['RMSE', 'MAE'], cv=5, verbose=True)"
   ]
  },
  {
   "cell_type": "code",
   "execution_count": 11,
   "id": "0e96d15c",
   "metadata": {},
   "outputs": [],
   "source": [
    "\n",
    "def get_top_n(predictions, n=10):\n",
    "    \"\"\"Return the top-N recommendation for each user from a set of predictions.\n",
    "\n",
    "    Args:\n",
    "        predictions(list of Prediction objects): The list of predictions, as\n",
    "            returned by the test method of an algorithm.\n",
    "        n(int): The number of recommendation to output for each user. Default\n",
    "            is 10.\n",
    "\n",
    "    Returns:\n",
    "    A dict where keys are user (raw) ids and values are lists of tuples:\n",
    "        [(raw item id, rating estimation), ...] of size n.\n",
    "    \"\"\"\n",
    "\n",
    "    # First map the predictions to each user.\n",
    "    top_n = defaultdict(list)\n",
    "    for uid, iid, true_r, est, _ in predictions:\n",
    "        top_n[uid].append((iid, est))\n",
    "\n",
    "    # Then sort the predictions for each user and retrieve the k highest ones.\n",
    "    for uid, user_ratings in top_n.items():\n",
    "        user_ratings.sort(key=lambda x: x[1], reverse=True)\n",
    "        top_n[uid] = user_ratings[:n]\n",
    "\n",
    "    return top_n"
   ]
  },
  {
   "cell_type": "code",
   "execution_count": null,
   "id": "4f853ff2",
   "metadata": {},
   "outputs": [],
   "source": [
    "# Train an SVD using test and split dataset\n",
    "trainset = data.build_full_trainset()\n",
    "algo = SVD()\n",
    "algo.fit(trainset)\n",
    "\n",
    "# Than predict ratings for all pairs (u, i) that are NOT in the training set.\n",
    "testset = trainset.build_anti_testset()\n",
    "predictions = algo.test(testset)\n",
    "\n",
    "top_n = get_top_n(predictions, n=10)\n",
    "\n",
    "# Print the recommended items for each user\n",
    "for uid, user_ratings in top_n.items():\n",
    "    print(uid, [iid for (iid, _) in user_ratings])"
   ]
  }
 ],
 "metadata": {
  "kernelspec": {
   "display_name": "rcs",
   "language": "python",
   "name": "python3"
  },
  "language_info": {
   "codemirror_mode": {
    "name": "ipython",
    "version": 3
   },
   "file_extension": ".py",
   "mimetype": "text/x-python",
   "name": "python",
   "nbconvert_exporter": "python",
   "pygments_lexer": "ipython3",
   "version": "3.10.13"
  }
 },
 "nbformat": 4,
 "nbformat_minor": 5
}
