{
 "cells": [
  {
   "cell_type": "code",
   "execution_count": 1,
   "id": "862ec58b",
   "metadata": {},
   "outputs": [],
   "source": [
    "from surprise import SVD, Dataset, Reader, KNNBasic\n",
    "from surprise.model_selection import cross_validate\n",
    "from collections import defaultdict\n",
    "import pandas as pd"
   ]
  },
  {
   "cell_type": "code",
   "execution_count": 10,
   "id": "088fb40f",
   "metadata": {},
   "outputs": [],
   "source": [
    "df = pd.read_csv(\"../ALS/data/ratings.csv\", nrows=1000000)  # Header wird automatisch erkannt\n",
    "df.columns = [\"user\", \"item\", \"rating\"]  # Umbenennen, falls nötig\n",
    "\n",
    "reader = Reader(rating_scale=(1, 5))\n",
    "data = Dataset.load_from_df(df[[\"user\", \"item\", \"rating\"]], reader)  # Spaltennamen statt Indizes"
   ]
  },
  {
   "cell_type": "code",
   "execution_count": 11,
   "id": "bef8014d",
   "metadata": {},
   "outputs": [
    {
     "name": "stdout",
     "output_type": "stream",
     "text": [
      "Evaluating RMSE, MAE of algorithm SVD on 5 split(s).\n",
      "\n",
      "                  Fold 1  Fold 2  Fold 3  Fold 4  Fold 5  Mean    Std     \n",
      "RMSE (testset)    0.8713  0.8703  0.8715  0.8677  0.8687  0.8699  0.0015  \n",
      "MAE (testset)     0.6815  0.6817  0.6812  0.6795  0.6795  0.6807  0.0010  \n",
      "Fit time          3.70    4.34    3.92    4.47    4.13    4.11    0.28    \n",
      "Test time         0.62    0.62    0.61    0.71    0.65    0.64    0.04    \n"
     ]
    },
    {
     "data": {
      "text/plain": [
       "{'test_rmse': array([0.87132088, 0.8703213 , 0.87145765, 0.86765762, 0.86874061]),\n",
       " 'test_mae': array([0.68154045, 0.681741  , 0.68119256, 0.67949982, 0.67954632]),\n",
       " 'fit_time': (3.701836109161377,\n",
       "  4.341921091079712,\n",
       "  3.924405097961426,\n",
       "  4.467318773269653,\n",
       "  4.125885963439941),\n",
       " 'test_time': (0.6189332008361816,\n",
       "  0.6157870292663574,\n",
       "  0.6067540645599365,\n",
       "  0.7122130393981934,\n",
       "  0.6460320949554443)}"
      ]
     },
     "execution_count": 11,
     "metadata": {},
     "output_type": "execute_result"
    }
   ],
   "source": [
    "algo = SVD()\n",
    "\n",
    "# Run 5-fold cross-validation and print results\n",
    "cross_validate(algo, data, measures=['RMSE', 'MAE'], cv=5, verbose=True)"
   ]
  },
  {
   "cell_type": "code",
   "execution_count": null,
   "id": "246e0e12",
   "metadata": {},
   "outputs": [
    {
     "name": "stdout",
     "output_type": "stream",
     "text": [
      "Computing the msd similarity matrix...\n",
      "Done computing similarity matrix.\n",
      "Computing the msd similarity matrix...\n",
      "Done computing similarity matrix.\n",
      "Computing the msd similarity matrix...\n",
      "Done computing similarity matrix.\n",
      "Evaluating RMSE, MAE of algorithm KNNBasic on 3 split(s).\n",
      "\n",
      "                  Fold 1  Fold 2  Fold 3  Mean    Std     \n",
      "RMSE (testset)    0.9093  0.9097  0.9120  0.9103  0.0012  \n",
      "MAE (testset)     0.7170  0.7172  0.7185  0.7176  0.0006  \n",
      "Fit time          8.05    8.25    8.02    8.11    0.10    \n",
      "Test time         64.86   66.65   62.73   64.75   1.60    \n"
     ]
    },
    {
     "data": {
      "text/plain": [
       "{'test_rmse': array([0.90926767, 0.90971025, 0.91200533]),\n",
       " 'test_mae': array([0.71704404, 0.7171998 , 0.71848078]),\n",
       " 'fit_time': (8.053538084030151, 8.247802019119263, 8.016561031341553),\n",
       " 'test_time': (64.85671186447144, 66.65344619750977, 62.732341051101685)}"
      ]
     },
     "execution_count": 12,
     "metadata": {},
     "output_type": "execute_result"
    }
   ],
   "source": [
    "algo = KNNBasic()\n",
    "\n",
    "# Run 5-fold cross-validation and print results\n",
    "cross_validate(algo, data, measures=['RMSE', 'MAE'], cv=3, verbose=True)"
   ]
  },
  {
   "cell_type": "code",
   "execution_count": 11,
   "id": "0e96d15c",
   "metadata": {},
   "outputs": [],
   "source": [
    "\n",
    "def get_top_n(predictions, n=10):\n",
    "    \"\"\"Return the top-N recommendation for each user from a set of predictions.\n",
    "\n",
    "    Args:\n",
    "        predictions(list of Prediction objects): The list of predictions, as\n",
    "            returned by the test method of an algorithm.\n",
    "        n(int): The number of recommendation to output for each user. Default\n",
    "            is 10.\n",
    "\n",
    "    Returns:\n",
    "    A dict where keys are user (raw) ids and values are lists of tuples:\n",
    "        [(raw item id, rating estimation), ...] of size n.\n",
    "    \"\"\"\n",
    "\n",
    "    # First map the predictions to each user.\n",
    "    top_n = defaultdict(list)\n",
    "    for uid, iid, true_r, est, _ in predictions:\n",
    "        top_n[uid].append((iid, est))\n",
    "\n",
    "    # Then sort the predictions for each user and retrieve the k highest ones.\n",
    "    for uid, user_ratings in top_n.items():\n",
    "        user_ratings.sort(key=lambda x: x[1], reverse=True)\n",
    "        top_n[uid] = user_ratings[:n]\n",
    "\n",
    "    return top_n"
   ]
  },
  {
   "cell_type": "code",
   "execution_count": null,
   "id": "4f853ff2",
   "metadata": {},
   "outputs": [],
   "source": [
    "# Train an SVD using test and split dataset\n",
    "trainset = data.build_full_trainset()\n",
    "algo = SVD()\n",
    "algo.fit(trainset)"
   ]
  },
  {
   "cell_type": "code",
   "execution_count": null,
   "id": "e25d74ca",
   "metadata": {},
   "outputs": [],
   "source": [
    "# Than predict ratings for all pairs (u, i) that are NOT in the training set.\n",
    "testset = trainset.build_anti_testset()\n",
    "predictions = algo.test(testset)\n",
    "\n",
    "top_n = get_top_n(predictions, n=10)\n",
    "\n",
    "# Print the recommended items for each user\n",
    "for uid, user_ratings in top_n.items():\n",
    "    print(uid, [iid for (iid, _) in user_ratings])"
   ]
  }
 ],
 "metadata": {
  "kernelspec": {
   "display_name": "rcs",
   "language": "python",
   "name": "python3"
  },
  "language_info": {
   "codemirror_mode": {
    "name": "ipython",
    "version": 3
   },
   "file_extension": ".py",
   "mimetype": "text/x-python",
   "name": "python",
   "nbconvert_exporter": "python",
   "pygments_lexer": "ipython3",
   "version": "3.10.13"
  }
 },
 "nbformat": 4,
 "nbformat_minor": 5
}
